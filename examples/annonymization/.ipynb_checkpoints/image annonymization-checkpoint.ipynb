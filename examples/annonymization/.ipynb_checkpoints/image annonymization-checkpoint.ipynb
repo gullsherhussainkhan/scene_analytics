{
 "cells": [
  {
   "cell_type": "code",
   "execution_count": 17,
   "id": "8f630e1d",
   "metadata": {},
   "outputs": [],
   "source": [
    "import os,sys\n",
    "sys.path.append(os.path.abspath('/home/ec2-user/SageMaker/SceneAnalytics'))"
   ]
  },
  {
   "cell_type": "code",
   "execution_count": 19,
   "id": "2d976802",
   "metadata": {},
   "outputs": [],
   "source": [
    "from cv2 import imwrite as cv2_imwrite # for the writing the output of anonyimize function\n",
    "\n",
    "from scene_analytics.corelib.scene_anonymization.anonymizer import Anonymizer"
   ]
  },
  {
   "cell_type": "code",
   "execution_count": 20,
   "id": "e8b0d9fb",
   "metadata": {},
   "outputs": [],
   "source": [
    "anonymizer = Anonymizer()"
   ]
  },
  {
   "cell_type": "code",
   "execution_count": 21,
   "id": "0f5d062c",
   "metadata": {},
   "outputs": [],
   "source": [
    "dimensions_list = [\n",
    "    \n",
    "      [50,  #startY\n",
    "       250, #endY\n",
    "       300, #startX\n",
    "       450  #endX   \n",
    "      ],\n",
    "    \n",
    "    [100,350,300,45]\n",
    "                   \n",
    "] # List of Bounding Boxes\n",
    "\n",
    "input_image_path = './input_image.jpeg'\n",
    "\n",
    "blocks = 10\n"
   ]
  },
  {
   "cell_type": "code",
   "execution_count": 22,
   "id": "23ecea32",
   "metadata": {},
   "outputs": [
    {
     "data": {
      "text/plain": [
       "True"
      ]
     },
     "execution_count": 22,
     "metadata": {},
     "output_type": "execute_result"
    }
   ],
   "source": [
    "output_image = anonymizer.anonymize_image(input_image_path,dimensions_list,'gaussian',blocks)\n",
    "\n",
    "cv2_imwrite('output_image.jpeg', output_image)"
   ]
  }
 ],
 "metadata": {
  "kernelspec": {
   "display_name": "conda_pytorch_p38",
   "language": "python",
   "name": "conda_pytorch_p38"
  },
  "language_info": {
   "codemirror_mode": {
    "name": "ipython",
    "version": 3
   },
   "file_extension": ".py",
   "mimetype": "text/x-python",
   "name": "python",
   "nbconvert_exporter": "python",
   "pygments_lexer": "ipython3",
   "version": "3.8.12"
  }
 },
 "nbformat": 4,
 "nbformat_minor": 5
}
